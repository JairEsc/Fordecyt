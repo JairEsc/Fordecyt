{
  "nbformat": 4,
  "nbformat_minor": 0,
  "metadata": {
    "colab": {
      "name": "Untitled53.ipynb",
      "provenance": [],
      "authorship_tag": "ABX9TyPeacDt97ACJ1xhUYe/ONlN",
      "include_colab_link": true
    },
    "kernelspec": {
      "name": "python3",
      "display_name": "Python 3"
    },
    "language_info": {
      "name": "python"
    }
  },
  "cells": [
    {
      "cell_type": "markdown",
      "metadata": {
        "id": "view-in-github",
        "colab_type": "text"
      },
      "source": [
        "<a href=\"https://colab.research.google.com/github/JairEsc/Fordecyt/blob/main/ajuste_gompertz_covid_16112021.ipynb\" target=\"_parent\"><img src=\"https://colab.research.google.com/assets/colab-badge.svg\" alt=\"Open In Colab\"/></a>"
      ]
    },
    {
      "cell_type": "code",
      "metadata": {
        "colab": {
          "base_uri": "https://localhost:8080/",
          "height": 293
        },
        "id": "X8KGPmTDccpK",
        "outputId": "402922c1-5093-420c-b021-f2aba14759ed"
      },
      "source": [
        "import pandas as pd\n",
        "import numpy as np\n",
        "#Pre-Tratamiento--------------------------\n",
        "data=pd.read_csv(\"Casos.csv\", sep=',',)\n",
        "\n",
        "#data.dropna(subset = [\"Tiempo_s\"], inplace=True)\n",
        "#--------------------------\n",
        "#seg=data['Tiempo_s']        \n",
        "#plt.hist(seg,density=True,);\n",
        "#print(\"Promedio: \",np.mean(seg),\"Varianza: \", np.std(seg)**2)\n",
        "#from scipy import stats\n",
        "#l=stats.distributions.expon.fit(seg);\n",
        "#print(l)\n",
        "#x = np.linspace(0,250,num=1000);\n",
        "#fitted_data = stats.distributions.expon.pdf(x,l[0],l[1]);\n",
        "#plt.plot(x,fitted_data,'r.')\n",
        "#plt.legend(['Exponencial('+str(round(l[0]+l[1],2))+\")\",'Datos'])\n",
        "#plt.show()\n",
        "\n",
        "Nat=data['CASOS']\n",
        "#print(Nat)\n",
        "log_nat=np.log(Nat)\n",
        "import matplotlib.pyplot as plt\n",
        "A=5.430e+06\n",
        "B=-4.122e-03\n",
        "C=3.811e+02\n",
        "x=np.arange(0,len(Nat))\n",
        "plt.plot(Nat,label='Datos')\n",
        "x=np.arange(0,len(Nat)+198)\n",
        "#plt.plot(A*np.exp(-np.exp(B*(x-C))),label='Ajuste')\n",
        "print(A*np.exp(-np.exp(B*(x[-1]-C)))/3845733)\n",
        "#plt.legend(framealpha=1, frameon=True);"
      ],
      "execution_count": 46,
      "outputs": [
        {
          "output_type": "stream",
          "name": "stdout",
          "text": [
            "1.2010473003945075\n"
          ]
        },
        {
          "output_type": "display_data",
          "data": {
            "image/png": "[encoded data removed]",
            "text/plain": [
              "<Figure size 432x288 with 1 Axes>"
            ]
          },
          "metadata": {
            "needs_background": "light"
          }
        }
      ]
    }
  ]
}